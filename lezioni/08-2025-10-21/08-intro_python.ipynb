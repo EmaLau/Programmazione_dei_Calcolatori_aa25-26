{
 "cells": [
  {
   "cell_type": "markdown",
   "id": "e7b72de6",
   "metadata": {},
   "source": [
    "# Operatori bit-a-bit"
   ]
  },
  {
   "cell_type": "code",
   "execution_count": null,
   "id": "269eb4a0",
   "metadata": {},
   "outputs": [
    {
     "name": "stdout",
     "output_type": "stream",
     "text": [
      "3\n",
      "14\n"
     ]
    }
   ],
   "source": [
    "n = 7\n",
    "\n",
    "print(n>>1) # shift a sx\n",
    "print(n<<1) # shift a dx"
   ]
  },
  {
   "cell_type": "code",
   "execution_count": 7,
   "id": "d2ea8da3",
   "metadata": {},
   "outputs": [
    {
     "name": "stdout",
     "output_type": "stream",
     "text": [
      "2\n",
      "7\n"
     ]
    }
   ],
   "source": [
    "a = 6\n",
    "b = 3\n",
    "\n",
    "print(a&b) # and bit-a-bit\n",
    "print(a|b) # or bit-a-bit\n"
   ]
  },
  {
   "cell_type": "markdown",
   "id": "74ef6b87",
   "metadata": {},
   "source": [
    "### Tabella operatori aggiornata\n",
    "\n",
    "| Categoria      | Operatori                                |\n",
    "|----------------|------------------------------------------|\n",
    "| Aritmetici     | `+`, `-`, `*`, `/`, `//`, `%`, `**`      |\n",
    "| Relazionali    | `==`, `!=`, `>`, `<`, `>=`, `<=`         |\n",
    "| Logici         | `and`, `or`, `not`                       |\n",
    "| Bit-a-bit      | `&`, `\\|`, `>>`, `<<`                    |\n",
    "\n",
    "**Problema**. Usare operatori bit a bit per calcolare il logaritmo intero in base 2 di `n`."
   ]
  },
  {
   "cell_type": "code",
   "execution_count": null,
   "id": "eec469b3",
   "metadata": {},
   "outputs": [
    {
     "name": "stdout",
     "output_type": "stream",
     "text": [
      "n_copia =  13 type(n_copia) =  <class 'int'>\n",
      "n_copia =  6 type(n_copia) =  <class 'int'>\n",
      "n_copia =  3 type(n_copia) =  <class 'int'>\n",
      "Logaritmo intero in base 2 di 13 = 3\n"
     ]
    }
   ],
   "source": [
    "n = 13\n",
    "\n",
    "n_copia = n # preserviamo il valore originale di n operando su una sua copia\n",
    "k = 0\n",
    "\n",
    "while n_copia >= 2:\n",
    "    print(\"n_copia = \", n_copia, \"type(n_copia) = \", type(n_copia))\n",
    "    n_copia = n_copia>>1 # equivale alla divisione intera per 2\n",
    "    k += 1\n",
    "\n",
    "print(\"Logaritmo intero in base 2 di\", n, \"=\", k)"
   ]
  },
  {
   "cell_type": "markdown",
   "id": "ddd7fea7",
   "metadata": {},
   "source": [
    "# Ancora sulle stringhe\n",
    "\n",
    "**Problema**. Data una stringa `a`, stampare `True` se la stringa è palindroma (può essere letta da dx a sx o da sx a dx allo stesso modo)\n",
    "\n",
    "## Slicing e indici negativi"
   ]
  },
  {
   "cell_type": "code",
   "execution_count": 1,
   "id": "ce9c6027",
   "metadata": {},
   "outputs": [
    {
     "name": "stdout",
     "output_type": "stream",
     "text": [
      "3\n",
      "12345\n",
      "012345\n",
      "0123456789\n",
      "246\n",
      "876543\n",
      "9876543210\n",
      "9\n",
      "8\n",
      "0\n"
     ]
    }
   ],
   "source": [
    "pal = \"itopinonavevanonipoti\"\n",
    "a = \"0123456789\"\n",
    "\n",
    "print(a[3])\n",
    "\n",
    "# a[0] = \"I\" NO, le stringhe sono immutabili\n",
    "\n",
    "# slicing\n",
    "print( a[1:6] ) # nuova stringa\n",
    "print( a[:6]) \n",
    "b = a[:]\n",
    "print(b)\n",
    "print(a[2:8:2]) # slicing con  step\n",
    "print(a[8:2:-1])\n",
    "print(a[::-1])\n",
    "print(a[-1]) # ultimo carattere\n",
    "print(a[-2])\n",
    "print(a[-len(a)]) # primo carattere"
   ]
  },
  {
   "cell_type": "markdown",
   "id": "b3bff695",
   "metadata": {},
   "source": [
    "*Soluzione con slicing e step negativo*"
   ]
  },
  {
   "cell_type": "code",
   "execution_count": 2,
   "id": "629de255",
   "metadata": {},
   "outputs": [
    {
     "name": "stdout",
     "output_type": "stream",
     "text": [
      "True\n"
     ]
    }
   ],
   "source": [
    "print( pal == pal[::-1])"
   ]
  },
  {
   "cell_type": "markdown",
   "id": "7a4acf2d",
   "metadata": {},
   "source": [
    "Soluzione corretta, *elegante*, compatta ma costosa perché:\n",
    "\n",
    "- Richiede la creazione di una nuova stringa della stessa dimensione di quella di input (consumo di memoria)\n",
    "- La copia occupa spazio e richiede tempo per le singole operazioni di copia dei caratteri\n",
    "- Il costo resta elevato anche nel caso estremo in cui il primo e l'ultimo carattere sono diversi.\n",
    "\n",
    "Una soluzione più efficiente confronta coppie di caratteri simmetrici rispetto al centro della stringa solo fintanto che questi sono uguali. Non c'è occorre nessuna copia."
   ]
  },
  {
   "cell_type": "code",
   "execution_count": 3,
   "id": "e5cebcaf",
   "metadata": {},
   "outputs": [
    {
     "name": "stdout",
     "output_type": "stream",
     "text": [
      "True\n"
     ]
    }
   ],
   "source": [
    "a = \"itopinonavevanonipoti\"\n",
    "#a = \"kayak\"\n",
    "\n",
    "i, n = 0, len(a)\n",
    "sembra_palindroma = True\n",
    "\n",
    "while i < n/2 and sembra_palindroma:\n",
    "    if a[i] != a[-i-1]: # coppia di caratteri simmetrici\n",
    "        sembra_palindroma = False\n",
    "    else:\n",
    "        i += 1\n",
    "\n",
    "print(sembra_palindroma)"
   ]
  },
  {
   "cell_type": "markdown",
   "id": "0493d6e9",
   "metadata": {},
   "source": [
    "Questa soluzione confronta tutte le coppie solo quando serve, ovvero nel caso in cui la stringa è palindroma. Altrimenti il ciclo viene interrotto in anticipo."
   ]
  }
 ],
 "metadata": {
  "kernelspec": {
   "display_name": "base",
   "language": "python",
   "name": "python3"
  },
  "language_info": {
   "codemirror_mode": {
    "name": "ipython",
    "version": 3
   },
   "file_extension": ".py",
   "mimetype": "text/x-python",
   "name": "python",
   "nbconvert_exporter": "python",
   "pygments_lexer": "ipython3",
   "version": "3.12.11"
  }
 },
 "nbformat": 4,
 "nbformat_minor": 5
}
