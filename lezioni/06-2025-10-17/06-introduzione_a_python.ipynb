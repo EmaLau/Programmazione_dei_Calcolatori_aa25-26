{
 "cells": [
  {
   "cell_type": "markdown",
   "id": "f9e4b1ec",
   "metadata": {},
   "source": [
    "# Logaritmo intero in base 2"
   ]
  },
  {
   "cell_type": "code",
   "execution_count": 1,
   "id": "6a716064",
   "metadata": {},
   "outputs": [
    {
     "name": "stdout",
     "output_type": "stream",
     "text": [
      "n_copia =  13 type(n_copia) =  <class 'int'>\n",
      "n_copia =  6.5 type(n_copia) =  <class 'float'>\n",
      "n_copia =  3.25 type(n_copia) =  <class 'float'>\n",
      "Logaritmo intero in base 2 di 13 = 3\n"
     ]
    }
   ],
   "source": [
    "n = 13\n",
    "\n",
    "n_copia = n # preserviamo il valore originale di n operando su una sua copia\n",
    "k = 0\n",
    "\n",
    "while n_copia >= 2:\n",
    "    print(\"n_copia = \", n_copia, \"type(n_copia) = \", type(n_copia))\n",
    "    n_copia /= 2 # equivalente a n_copia = n_copia/2\n",
    "    k = k+1 # k += 1\n",
    "\n",
    "print(\"Logaritmo intero in base 2 di\", n, \"=\", k)"
   ]
  },
  {
   "cell_type": "code",
   "execution_count": 2,
   "id": "617e433e",
   "metadata": {},
   "outputs": [
    {
     "name": "stdout",
     "output_type": "stream",
     "text": [
      "13\n",
      "<class 'str'>\n"
     ]
    }
   ],
   "source": [
    "n = input(\"Digita qualcosa: \")\n",
    "print(n)\n",
    "print(type(n))"
   ]
  },
  {
   "cell_type": "code",
   "execution_count": 3,
   "id": "fe210c87",
   "metadata": {},
   "outputs": [
    {
     "name": "stdout",
     "output_type": "stream",
     "text": [
      "Logaritmo intero in base 2 di 7 = 2\n"
     ]
    }
   ],
   "source": [
    "n = input(\"Digita un numero: \")\n",
    "\n",
    "n_copia = int(n) # funzione che ritorna il valore intero in n\n",
    "# altre funzioni di conversione: float(), str() \n",
    "\n",
    "k = 0\n",
    "\n",
    "while n_copia >= 2:\n",
    "    n_copia /= 2 # equivalente a n_copia = n_copia/2\n",
    "    k = k+1 # k += 1\n",
    "\n",
    "print(\"Logaritmo intero in base 2 di\", n, \"=\", k)"
   ]
  },
  {
   "cell_type": "code",
   "execution_count": 4,
   "id": "8210f62b",
   "metadata": {},
   "outputs": [
    {
     "name": "stdout",
     "output_type": "stream",
     "text": [
      "<class 'str'>\n"
     ]
    }
   ],
   "source": [
    "n = input(\"Digita un numero: \") # ritorna una stringa\n",
    "\n",
    "print(type(n))"
   ]
  },
  {
   "cell_type": "markdown",
   "id": "4c2d76bd",
   "metadata": {},
   "source": [
    "# Stringhe"
   ]
  },
  {
   "cell_type": "code",
   "execution_count": null,
   "id": "595edc08",
   "metadata": {},
   "outputs": [
    {
     "name": "stdout",
     "output_type": "stream",
     "text": [
      "8\n",
      "c <class 'str'>\n"
     ]
    }
   ],
   "source": [
    "a = \"abcdefgh\"\n",
    "\n",
    "print( len(a) )\n",
    "\n",
    "x = a[2]\n",
    "\n",
    "print( x, type(x) )\n"
   ]
  },
  {
   "cell_type": "markdown",
   "id": "52ebb712",
   "metadata": {},
   "source": [
    "**Problema**. Stampare una stringa in verticale"
   ]
  },
  {
   "cell_type": "code",
   "execution_count": 18,
   "id": "c5ad1cd7",
   "metadata": {},
   "outputs": [
    {
     "name": "stdout",
     "output_type": "stream",
     "text": [
      "a\n",
      "b\n",
      "c\n",
      "d\n",
      "e\n",
      "f\n",
      "g\n",
      "h\n"
     ]
    }
   ],
   "source": [
    "a = \"abcdefgh\"\n",
    "\n",
    "i = 0\n",
    "# i = 0.0  # NO, perché float non può essere usato come indice\n",
    "\n",
    "while i < len(a):\n",
    "    print(a[i])\n",
    "    i += 1\n",
    "\n"
   ]
  },
  {
   "cell_type": "code",
   "execution_count": 19,
   "id": "11d79933",
   "metadata": {},
   "outputs": [
    {
     "name": "stdout",
     "output_type": "stream",
     "text": [
      "a\n",
      "b\n",
      "c\n",
      "d\n",
      "e\n",
      "f\n",
      "g\n",
      "h\n"
     ]
    }
   ],
   "source": [
    "a = \"abcdefgh\"\n",
    "\n",
    "for x in a:\n",
    "    print(x)"
   ]
  },
  {
   "cell_type": "code",
   "execution_count": null,
   "id": "faace584",
   "metadata": {},
   "outputs": [
    {
     "name": "stdout",
     "output_type": "stream",
     "text": [
      "a\n",
      "b\n",
      "c\n",
      "d\n",
      "e\n",
      "f\n",
      "g\n",
      "h\n"
     ]
    }
   ],
   "source": [
    "a = \"abcdefgh\"\n",
    "\n",
    "for i in range(len(a)):\n",
    "    print( a[i] ) # indicizzazione"
   ]
  },
  {
   "cell_type": "code",
   "execution_count": 21,
   "id": "390099f6",
   "metadata": {},
   "outputs": [
    {
     "name": "stdout",
     "output_type": "stream",
     "text": [
      "0 a\n",
      "1 b\n",
      "2 c\n",
      "3 d\n",
      "4 e\n",
      "5 f\n",
      "6 g\n",
      "7 h\n"
     ]
    }
   ],
   "source": [
    "a = \"abcdefgh\"\n",
    "\n",
    "for i, x in enumerate(a):\n",
    "    print( i, x )"
   ]
  },
  {
   "cell_type": "code",
   "execution_count": null,
   "id": "9d45bdda",
   "metadata": {},
   "outputs": [
    {
     "name": "stdout",
     "output_type": "stream",
     "text": [
      "123abcd\n",
      "abcdabcdabcd\n"
     ]
    }
   ],
   "source": [
    "a = \"123\"\n",
    "b = \"abcd\"\n",
    "c = a+b # concatenazione\n",
    "d = 3*b # ripetizione, d = b*3 è equivalente. Il numero DEVE essere int\n",
    "print(c)\n",
    "print(d)\n"
   ]
  },
  {
   "cell_type": "markdown",
   "id": "d40bda62",
   "metadata": {},
   "source": [
    "**Esercizio**: Dato un intero n (chiedere all'utente), disegnare un quadrato nxn con asterischi. Esempio n = 3\n",
    "\n",
    "```\n",
    "***\n",
    "***\n",
    "***\n",
    "```"
   ]
  },
  {
   "cell_type": "code",
   "execution_count": 24,
   "id": "67224ec8",
   "metadata": {},
   "outputs": [
    {
     "name": "stdout",
     "output_type": "stream",
     "text": [
      "**********\n",
      "**********\n",
      "**********\n",
      "**********\n",
      "**********\n",
      "**********\n",
      "**********\n",
      "**********\n",
      "**********\n",
      "**********\n"
     ]
    }
   ],
   "source": [
    "n = int( input(\"Digita un intero: \") )\n",
    "\n",
    "riga = \"*\"*n\n",
    "\n",
    "for _ in range(n):\n",
    "    print( riga )"
   ]
  },
  {
   "cell_type": "markdown",
   "id": "a9e02367",
   "metadata": {},
   "source": [
    "Come sopra ma solo perimetro."
   ]
  },
  {
   "cell_type": "code",
   "execution_count": 5,
   "id": "fb0149b3",
   "metadata": {},
   "outputs": [
    {
     "name": "stdout",
     "output_type": "stream",
     "text": [
      "*******\n",
      "*     *\n",
      "*     *\n",
      "*     *\n",
      "*     *\n",
      "*     *\n",
      "*******\n"
     ]
    }
   ],
   "source": [
    "n = int( input(\"Digita un intero: \") )\n",
    "\n",
    "riga_piena = \"*\"*n\n",
    "riga_centrale = \"*\" + \" \"*(n-2) + \"*\"\n",
    "\n",
    "print(riga_piena)\n",
    "\n",
    "for _ in range(n-2):\n",
    "    print(riga_centrale)\n",
    "\n",
    "if n > 1:\n",
    "    print(riga_piena)\n"
   ]
  },
  {
   "cell_type": "markdown",
   "id": "f77f9574",
   "metadata": {},
   "source": [
    "# Esercizi per il finesettimana\n",
    "\n",
    "1. Scrivere un programma che acquisisce un intero in input e stampa la somma di cifre che lo compongono. Ad esempio se l'utente digita `124`, il programma deve stampare `7`.\n",
    "\n",
    "2. Scrivere un programma che acquisisce due stringhe in input e le stampa allineandole al centro. Ovvero se le stringhe sono `0123456789` e `abc`, il programma deve stampare\n",
    "\n",
    "```\n",
    "            0123456789\n",
    "               abc\n",
    "```"
   ]
  }
 ],
 "metadata": {
  "kernelspec": {
   "display_name": "base",
   "language": "python",
   "name": "python3"
  },
  "language_info": {
   "codemirror_mode": {
    "name": "ipython",
    "version": 3
   },
   "file_extension": ".py",
   "mimetype": "text/x-python",
   "name": "python",
   "nbconvert_exporter": "python",
   "pygments_lexer": "ipython3",
   "version": "3.12.11"
  }
 },
 "nbformat": 4,
 "nbformat_minor": 5
}
