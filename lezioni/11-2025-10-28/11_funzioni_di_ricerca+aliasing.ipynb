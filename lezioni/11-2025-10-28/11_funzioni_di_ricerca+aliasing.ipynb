{
 "cells": [
  {
   "cell_type": "markdown",
   "id": "d54a8675",
   "metadata": {},
   "source": [
    "# Esercizio\n",
    "\n",
    "Si scriva una funzione `argfind` che prende in input una lista di numeri `L` e un valore `k` e restituisce la posizione della prima occorrenza di `k` in `L`. Se `L` non contiene `k`, la funzione restituisca `-1`. "
   ]
  },
  {
   "cell_type": "code",
   "execution_count": null,
   "id": "f8856a86",
   "metadata": {},
   "outputs": [
    {
     "name": "stdout",
     "output_type": "stream",
     "text": [
      "8\n"
     ]
    }
   ],
   "source": [
    "L = [2,1.9,4,6,7,4.3,2,9,2]\n",
    "k = 0\n",
    "\n",
    "n = len(L)\n",
    "\n",
    "for i in range(n):\n",
    "    if k == L[i]:\n",
    "        #return i\n",
    "        print(i)\n",
    "        break # esce dal ciclo più interno\n",
    "\n",
    "print(i)"
   ]
  },
  {
   "cell_type": "code",
   "execution_count": null,
   "id": "352c7655",
   "metadata": {},
   "outputs": [],
   "source": []
  },
  {
   "cell_type": "code",
   "execution_count": 10,
   "id": "79caa6b4",
   "metadata": {},
   "outputs": [],
   "source": [
    "def argfind(L, k):\n",
    "    \"\"\"\n",
    "    Parametri: L una lista di numeri\n",
    "                k un valore\n",
    "    Ritorna i tale che L[i] == k oppure -1 se tale i non esiste\n",
    "    \"\"\"\n",
    "    n = len(L)\n",
    "\n",
    "    for i in range(n): # al più n volte\n",
    "        if k == L[i]: # costo costante\n",
    "            return i\n",
    "    \n",
    "    return -1\n",
    "\n",
    "    # complessità temporale O(n) nel caso peggiore\n",
    "    # nel caso migliore? k in testa, O(1)\n",
    "    # nel caso medio? O(n), vedere conti per la soluzione al problema stringa palindroma "
   ]
  },
  {
   "cell_type": "code",
   "execution_count": 4,
   "id": "c6df9cd5",
   "metadata": {},
   "outputs": [
    {
     "name": "stdout",
     "output_type": "stream",
     "text": [
      "2\n",
      "-1\n"
     ]
    }
   ],
   "source": [
    "a = [2,1.9,4,6,7,4.3,2,9,2]\n",
    "print( argfind(a, 4) )\n",
    "print( argfind(a, 0) )"
   ]
  },
  {
   "cell_type": "code",
   "execution_count": 7,
   "id": "63229b39",
   "metadata": {},
   "outputs": [
    {
     "name": "stdout",
     "output_type": "stream",
     "text": [
      "9 1.9\n"
     ]
    }
   ],
   "source": [
    "print(max(a), min(a))"
   ]
  },
  {
   "cell_type": "code",
   "execution_count": 9,
   "id": "0efac1e8",
   "metadata": {},
   "outputs": [],
   "source": [
    "def argmax(L):\n",
    "    return argfind(L, max(L))"
   ]
  },
  {
   "cell_type": "code",
   "execution_count": 12,
   "id": "dcbaa242",
   "metadata": {},
   "outputs": [
    {
     "name": "stdout",
     "output_type": "stream",
     "text": [
      "9\n"
     ]
    }
   ],
   "source": [
    "print( a[argmax(a)] )"
   ]
  },
  {
   "cell_type": "code",
   "execution_count": 2,
   "id": "97f43b83",
   "metadata": {},
   "outputs": [],
   "source": [
    "def argmax(L):\n",
    "\n",
    "    cur_max, pos = None, None\n",
    "    \n",
    "    for i, x in enumerate(L): # unpacking\n",
    "        if  cur_max == None or x > cur_max:\n",
    "            cur_max, pos = x, i\n",
    "\n",
    "    return pos"
   ]
  },
  {
   "cell_type": "code",
   "execution_count": 21,
   "id": "8b641eb7",
   "metadata": {},
   "outputs": [
    {
     "name": "stdout",
     "output_type": "stream",
     "text": [
      "9\n"
     ]
    }
   ],
   "source": [
    "a = [2,1.9,4,6,7,4.3,2,9,2]\n",
    "print( a[argmax(a)] )"
   ]
  },
  {
   "cell_type": "code",
   "execution_count": null,
   "id": "51b579d1",
   "metadata": {},
   "outputs": [
    {
     "name": "stdout",
     "output_type": "stream",
     "text": [
      "None\n"
     ]
    }
   ],
   "source": [
    "a = [2,1.9,4,6,7,4.3,2,9,2]\n",
    "b = a # aliasing, b è un alias di a. a e b legati alla stessa lista\n",
    "b[0] = None\n",
    "print( a[0] )"
   ]
  },
  {
   "cell_type": "code",
   "execution_count": 24,
   "id": "c2acf64f",
   "metadata": {},
   "outputs": [
    {
     "name": "stdout",
     "output_type": "stream",
     "text": [
      "2\n"
     ]
    }
   ],
   "source": [
    "a = [2,1.9,4,6,7,4.3,2,9,2]\n",
    "c = a[:] # clonazione\n",
    "c[0] = None\n",
    "print( a[0] )"
   ]
  },
  {
   "cell_type": "code",
   "execution_count": 25,
   "id": "c0319542",
   "metadata": {},
   "outputs": [],
   "source": [
    "def attila( L ):\n",
    "    for i in range(len(L)):\n",
    "        L[i] = None"
   ]
  },
  {
   "cell_type": "code",
   "execution_count": 26,
   "id": "ec34318a",
   "metadata": {},
   "outputs": [
    {
     "name": "stdout",
     "output_type": "stream",
     "text": [
      "[None, None, None, None, None, None, None, None, None]\n"
     ]
    }
   ],
   "source": [
    "a = [2,1.9,4,6,7,4.3,2,9,2]\n",
    "attila(a)\n",
    "print(a)"
   ]
  },
  {
   "cell_type": "markdown",
   "id": "b39634d6",
   "metadata": {},
   "source": [
    "# Esercizi\n",
    "\n",
    "**1.** Scrivere la docstring della seguente funzione:\n",
    "\n",
    "```python\n",
    "    def argmax(L):\n",
    "\n",
    "        cur_max, pos = None, None\n",
    "        \n",
    "        for i, x in enumerate(L):\n",
    "            if  cur_max == None or x > cur_max:\n",
    "                cur_max, pos = x, i\n",
    "\n",
    "        return pos\n",
    "```\n",
    "\n",
    "**2.** Scrivere una funzione che abbia la seguente specifica\n",
    "\n",
    "```python\n",
    "    def second_max( L ):\n",
    "        \"\"\"\n",
    "        Parametri: L una lista di numeri\n",
    "        \n",
    "        Ritorna il secondo valore più grande della lista L;\n",
    "        se la lista contiene almeno due elementi, None altrimenti.\n",
    "        \n",
    "        Nel caso di due massimi, la funzione ritorna il massimo\n",
    "\n",
    "        Esempi:\n",
    "        \n",
    "        se L = [3, 1, 4, 2, 0], la funzione ritorna 3\n",
    "        se L = [3, 1, 4, 2, 4], la funzione ritorna 4\n",
    "\n",
    "        \"\"\"\n",
    "```"
   ]
  }
 ],
 "metadata": {
  "kernelspec": {
   "display_name": "base",
   "language": "python",
   "name": "python3"
  },
  "language_info": {
   "codemirror_mode": {
    "name": "ipython",
    "version": 3
   },
   "file_extension": ".py",
   "mimetype": "text/x-python",
   "name": "python",
   "nbconvert_exporter": "python",
   "pygments_lexer": "ipython3",
   "version": "3.12.11"
  }
 },
 "nbformat": 4,
 "nbformat_minor": 5
}
