{
 "cells": [
  {
   "cell_type": "markdown",
   "id": "f9e4b1ec",
   "metadata": {},
   "source": [
    "# Approssimazione di  $\\pi$\n",
    "\n",
    "## Campionamenti casuali"
   ]
  },
  {
   "cell_type": "code",
   "execution_count": 63,
   "id": "40c249a0",
   "metadata": {},
   "outputs": [
    {
     "name": "stdout",
     "output_type": "stream",
     "text": [
      "Valori iniziali di n e n_c: 400 0\n",
      "valore di pi calcolato =  3.12\n"
     ]
    }
   ],
   "source": [
    "# questo è un commento\n",
    "import random # importazione della libreria random  \n",
    "\n",
    "n = 400 # definizione di variabile\n",
    "n_c = 0 # operazioni di assegnamento\n",
    "\n",
    "# equivalente a...\n",
    "# n, n_c = 400, 0\n",
    "\n",
    "print('Valori iniziali di n e n_c:', n, n_c) # funzione interna di Python\n",
    "\n",
    "for _ in range(n): # range, funzione interna di Python\n",
    "    x = random.uniform(-1, 1) # uniform, funzione della libreria random\n",
    "    y = random.uniform(-1, 1)\n",
    "\n",
    "    if x**2 + y**2 <= 1:\n",
    "        n_c = n_c+1 # valuto espressione a dx di = e assegno il valore alla variabile a sx\n",
    "        # oppure... n_c += 1\n",
    "\n",
    "print('valore di pi calcolato = ', 4 * n_c / n )"
   ]
  }
 ],
 "metadata": {
  "kernelspec": {
   "display_name": ".venv",
   "language": "python",
   "name": "python3"
  },
  "language_info": {
   "codemirror_mode": {
    "name": "ipython",
    "version": 3
   },
   "file_extension": ".py",
   "mimetype": "text/x-python",
   "name": "python",
   "nbconvert_exporter": "python",
   "pygments_lexer": "ipython3",
   "version": "3.13.7"
  }
 },
 "nbformat": 4,
 "nbformat_minor": 5
}
