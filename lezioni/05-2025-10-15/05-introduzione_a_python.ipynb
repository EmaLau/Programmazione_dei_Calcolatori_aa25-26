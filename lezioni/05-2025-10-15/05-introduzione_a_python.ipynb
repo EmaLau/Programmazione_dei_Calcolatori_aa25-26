{
 "cells": [
  {
   "cell_type": "markdown",
   "id": "f9e4b1ec",
   "metadata": {},
   "source": [
    "# Approssimazione di  $\\pi$\n",
    "\n",
    "## Campionamenti casuali"
   ]
  },
  {
   "cell_type": "code",
   "execution_count": null,
   "id": "40c249a0",
   "metadata": {},
   "outputs": [
    {
     "name": "stdout",
     "output_type": "stream",
     "text": [
      "Valori iniziali di n e n_c: 400 0\n",
      "valore di pi calcolato =  3.15\n"
     ]
    }
   ],
   "source": [
    "# questo è un commento\n",
    "import random # importazione della libreria random  \n",
    "\n",
    "n = 400 # definizione di variabile\n",
    "n_c = 0 # operazioni di assegnamento\n",
    "\n",
    "# equivalente a...\n",
    "# n, n_c = 400, 0\n",
    "\n",
    "print('Valori iniziali di n e n_c:', n, n_c) # funzione interna di Python\n",
    "\n",
    "for _ in range(n): # range, funzione interna di Python\n",
    "    x = random.uniform(-1, 1) # uniform, funzione della libreria random\n",
    "    y = random.uniform(-1, 1)\n",
    "\n",
    "    if x**2 + y**2 <= 1:\n",
    "        n_c = n_c+1 # valuto espressione a dx di = e assegno il valore alla variabile a sx\n",
    "        # oppure... n_c += 1\n",
    "\n",
    "print('valore di pi calcolato = ', 4 * n_c / n )"
   ]
  }
 ],
 "metadata": {
  "language_info": {
   "name": "python"
  }
 },
 "nbformat": 4,
 "nbformat_minor": 5
}
