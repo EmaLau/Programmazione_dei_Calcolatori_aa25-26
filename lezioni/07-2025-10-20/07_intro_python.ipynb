{
 "cells": [
  {
   "cell_type": "markdown",
   "id": "cd8ee9dd",
   "metadata": {},
   "source": [
    "# Esercizi per il fine settimana: soluzioni\n",
    "\n",
    "1. Scrivere un programma che acquisisce un intero in input e stampa la somma di cifre che lo compongono. Ad esempio se l'utente digita `124`, il programma deve stampare `7`."
   ]
  },
  {
   "cell_type": "code",
   "execution_count": 1,
   "id": "5a99d7aa",
   "metadata": {},
   "outputs": [
    {
     "name": "stdout",
     "output_type": "stream",
     "text": [
      "10\n"
     ]
    }
   ],
   "source": [
    "n = input(\"Digita un numero:\")\n",
    "somma = 0\n",
    "for x in n:\n",
    "    somma += int(x)\n",
    "print(somma)"
   ]
  },
  {
   "cell_type": "code",
   "execution_count": 2,
   "id": "f2337d0f",
   "metadata": {},
   "outputs": [
    {
     "name": "stdout",
     "output_type": "stream",
     "text": [
      "6\n"
     ]
    }
   ],
   "source": [
    "n = int(input(\"Digita un numero:\"))\n",
    "somma = 0\n",
    "\n",
    "while n != 0:\n",
    "    somma += n%10    # modulo\n",
    "    n = int(n/10) # oppure n = n//10, divisione intera\n",
    "\n",
    "print(somma)\n"
   ]
  },
  {
   "cell_type": "markdown",
   "id": "760e68ce",
   "metadata": {},
   "source": [
    "2. Scrivere un programma che acquisisce due stringhe in input e le stampa allineandole al centro. Ovvero se le stringhe sono `0123456789` e `abc`, il programma deve stampare\n",
    "\n",
    "```\n",
    "            0123456789\n",
    "               abc\n",
    "```"
   ]
  },
  {
   "cell_type": "code",
   "execution_count": 7,
   "id": "7997ad14",
   "metadata": {},
   "outputs": [
    {
     "name": "stdout",
     "output_type": "stream",
     "text": [
      "    abc\n",
      "01234567890\n"
     ]
    }
   ],
   "source": [
    "b = \"01234567890\"\n",
    "a = \"abc\"\n",
    "\n",
    "spazi = (len(a)-len(b))//2\n",
    "\n",
    "if spazi >= 0:\n",
    "    print(a)\n",
    "    print(\" \"*spazi+b)\n",
    "\n",
    "if spazi < 0:\n",
    "    print(-spazi*\" \"+a)\n",
    "    print(b)"
   ]
  },
  {
   "cell_type": "code",
   "execution_count": 8,
   "id": "a530ac65",
   "metadata": {},
   "outputs": [
    {
     "name": "stdout",
     "output_type": "stream",
     "text": [
      "    abc\n",
      "01234567890\n"
     ]
    }
   ],
   "source": [
    "b = \"01234567890\"\n",
    "a = \"abc\"\n",
    "\n",
    "spazi = (len(a)-len(b))//2\n",
    "\n",
    "if spazi >= 0:\n",
    "    print(a)\n",
    "    print(\" \"*spazi+b)\n",
    "else:\n",
    "    print(-spazi*\" \"+a)\n",
    "    print(b)"
   ]
  },
  {
   "cell_type": "code",
   "execution_count": 11,
   "id": "38b475a7",
   "metadata": {},
   "outputs": [
    {
     "name": "stdout",
     "output_type": "stream",
     "text": [
      "01234567890\n",
      "    abc\n"
     ]
    }
   ],
   "source": [
    "a = \"01234567890\"\n",
    "b = \"abc\"\n",
    "\n",
    "if len(a) > len(b):\n",
    "    spazi_a, spazi_b = 0, (len(a)-len(b))//2\n",
    "else:\n",
    "    spazi_a, spazi_b = -(len(a)-len(b))//2, 0\n",
    "\n",
    "print(\" \"*spazi_a+a)\n",
    "print(\" \"*spazi_b+b)"
   ]
  },
  {
   "cell_type": "markdown",
   "id": "b0816ec1",
   "metadata": {},
   "source": [
    "# Riassunto sugli operatori\n",
    "\n",
    "| Categoria      | Operatori                               |\n",
    "|----------------|------------------------------------------|\n",
    "| Aritmetici     | `+`, `-`, `*`, `/`, `//`, `%`, `**`      |\n",
    "| Relazionali    | `==`, `!=`, `>`, `<`, `>=`, `<=`         |\n",
    "| Logici         | `and`, `or`, `not`                       |\n"
   ]
  },
  {
   "cell_type": "code",
   "execution_count": 13,
   "id": "5bbb724c",
   "metadata": {},
   "outputs": [
    {
     "name": "stdout",
     "output_type": "stream",
     "text": [
      "21\n"
     ]
    }
   ],
   "source": [
    "a = \"ProGrammAzione Dei calc0lat0r1\"\n",
    "minuscole = 0\n",
    "for x in a:\n",
    "    if x >= \"a\" and x <= \"z\":\n",
    "        minuscole += 1\n",
    "\n",
    "print(minuscole)"
   ]
  },
  {
   "cell_type": "code",
   "execution_count": 14,
   "id": "d481caf4",
   "metadata": {},
   "outputs": [
    {
     "name": "stdout",
     "output_type": "stream",
     "text": [
      "9\n"
     ]
    }
   ],
   "source": [
    "a = \"ProGrammAzione Dei calc0lat0r1\"\n",
    "\n",
    "vocali = 0\n",
    "\n",
    "for x in a:\n",
    "    if x == \"a\" or x == \"e\" or x == \"i\" or x == \"o\" or x == \"u\":\n",
    "        vocali += 1\n",
    "\n",
    "print(vocali)"
   ]
  },
  {
   "cell_type": "code",
   "execution_count": 15,
   "id": "55ad5f79",
   "metadata": {},
   "outputs": [
    {
     "name": "stdout",
     "output_type": "stream",
     "text": [
      "9\n"
     ]
    }
   ],
   "source": [
    "a = \"ProGrammAzione Dei calc0lat0r1\"\n",
    "\n",
    "vocali_minuscole = 0\n",
    "\n",
    "for x in a:\n",
    "    if x in \"aeiou\":\n",
    "        vocali_minuscole += 1\n",
    "\n",
    "print(vocali_minuscole)"
   ]
  },
  {
   "cell_type": "code",
   "execution_count": 19,
   "id": "10007e0e",
   "metadata": {},
   "outputs": [
    {
     "name": "stdout",
     "output_type": "stream",
     "text": [
      "False\n",
      "False\n",
      "True\n"
     ]
    }
   ],
   "source": [
    "print(\"python\" in \"Programma in Python\")\n",
    "print(\"Pth\" in \"Programma in Python\")\n",
    "print(\"in P\" in \"Programma in Python\")"
   ]
  }
 ],
 "metadata": {
  "kernelspec": {
   "display_name": "base",
   "language": "python",
   "name": "python3"
  },
  "language_info": {
   "codemirror_mode": {
    "name": "ipython",
    "version": 3
   },
   "file_extension": ".py",
   "mimetype": "text/x-python",
   "name": "python",
   "nbconvert_exporter": "python",
   "pygments_lexer": "ipython3",
   "version": "3.12.11"
  }
 },
 "nbformat": 4,
 "nbformat_minor": 5
}
