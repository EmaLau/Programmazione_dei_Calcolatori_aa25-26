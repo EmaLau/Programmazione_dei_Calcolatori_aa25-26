{
 "cells": [
  {
   "cell_type": "markdown",
   "id": "b3cc6afd",
   "metadata": {},
   "source": [
    "# Esercizi per il fine settimana: soluzioni\n",
    "\n",
    "1. Sia `n` una variabile intera, scrivere un programma che crei una lista contenente i primi `n` interi.\n"
   ]
  },
  {
   "cell_type": "code",
   "execution_count": null,
   "id": "835c84f2",
   "metadata": {},
   "outputs": [
    {
     "name": "stdout",
     "output_type": "stream",
     "text": [
      "[0, 1, 2, 3, 4, 5, 6, 7, 8, 9]\n"
     ]
    }
   ],
   "source": [
    "n = 10 # input\n",
    "\n",
    "a = [] # lista vuota. Costo O(1)\n",
    "\n",
    "for x in range(n): # inserimento in coda degli interi da 0 a n-1\n",
    "    a.append(x) # costo O(1)\n",
    "\n",
    "# costo totale O(n)\n",
    "\n",
    "print(a)\n"
   ]
  },
  {
   "cell_type": "code",
   "execution_count": null,
   "id": "92b9e437",
   "metadata": {},
   "outputs": [
    {
     "name": "stdout",
     "output_type": "stream",
     "text": [
      "[0, 1, 2, 3, 4, 5, 6, 7, 8, 9]\n"
     ]
    }
   ],
   "source": [
    "a = list(range(n)) #  funzione di conversione\n",
    "\n",
    "print(a)"
   ]
  },
  {
   "cell_type": "markdown",
   "id": "d6539c2e",
   "metadata": {},
   "source": [
    "\n",
    "2. Sia `a` una lista contenente soltanto numeri, si costruisca la lista delle somme parziali di `a`, ovvero una lista, denominata `somme` della stessa dimensione di `a` tale che `somme[i]` contiene la somma dei primi `i+1` elementi in `a`.\n",
    "\n",
    "Nel risolvere gli esercizi si utilizzino soltanto gli strumenti fin qui introdotti a lezione."
   ]
  },
  {
   "cell_type": "code",
   "execution_count": 4,
   "id": "adbdd9ec",
   "metadata": {},
   "outputs": [
    {
     "name": "stdout",
     "output_type": "stream",
     "text": [
      "[6, 9, 11, 15, 16, 19]\n"
     ]
    }
   ],
   "source": [
    "a = [6,3,2,4,1,3]\n",
    "\n",
    "# sia n = len(a), la complessità temporale dipenderà da n\n",
    "\n",
    "somme = [] # costo O(1)\n",
    "\n",
    "for x in a:  # per n volte\n",
    "    if somme == []: # verifica lista vuota, anche con len(somme) == 0, costo O(1)\n",
    "        somme.append(x) # O(1)\n",
    "    else:\n",
    "        c = somme[-1] + x  # valore inserito al passo precedente + x, # O(1) perché indicizzazione richiede tempo costante\n",
    "        somme.append(c) # O(1)\n",
    "\n",
    "# tempo totale O(n)\n",
    "\n",
    "print(somme)"
   ]
  },
  {
   "cell_type": "markdown",
   "id": "a2d40a03",
   "metadata": {},
   "source": [
    "Il costo computazionale, in termini di tempo di calcolo, della soluzione è lineare nella lunghezza della lista in quanto, per `n` volte si eseguono: un confronto con la lista vota (tempo che non dipende dalla lunghezza della lista, indicizzazione e operazioni aritmetiche). Il costo dell'indicizzazione è costante perché gli elementi della lista sono memorizzati in posizioni consecutive di memoria e ogni elemento occupa lo stesso spazio."
   ]
  },
  {
   "cell_type": "code",
   "execution_count": null,
   "id": "5a3a317a",
   "metadata": {},
   "outputs": [],
   "source": [
    "def cumsum( L ): # L parametro formale\n",
    "    '''\n",
    "    Parmetri: L una lista di numeri (int o float)\n",
    "\n",
    "    Stampa la lista delle somme comulative\n",
    "    '''\n",
    "\n",
    "    somme = [] # variabile locale, visibilità interna alla funzione. Lo sono anche i parametri formali\n",
    "\n",
    "    for x in L:  # x, variabile locale\n",
    "        if somme == []: \n",
    "            somme.append(x) \n",
    "        else:\n",
    "            c = somme[-1] + x  # c, variabile locale\n",
    "            somme.append(c) \n",
    "\n",
    "    return somme # definisce il risultato, interrompe la funzione"
   ]
  },
  {
   "cell_type": "code",
   "execution_count": 6,
   "id": "5b3f3bb7",
   "metadata": {},
   "outputs": [
    {
     "name": "stdout",
     "output_type": "stream",
     "text": [
      "11\n"
     ]
    }
   ],
   "source": [
    "a = [6,3,2,4,1,3]\n",
    "b = cumsum(a) # a, parametro attuale. Assegnato a L al momento dell'esecuzione \n",
    "print(b[2])"
   ]
  },
  {
   "cell_type": "code",
   "execution_count": 9,
   "id": "a2a1d81c",
   "metadata": {},
   "outputs": [
    {
     "name": "stdout",
     "output_type": "stream",
     "text": [
      "Help on function cumsum in module __main__:\n",
      "\n",
      "cumsum(L)\n",
      "    Parmetri: L una lista di numeri (int o float)\n",
      "\n",
      "    Stampa la lista delle somme comulative\n",
      "\n"
     ]
    }
   ],
   "source": [
    "help(cumsum)"
   ]
  }
 ],
 "metadata": {
  "kernelspec": {
   "display_name": "base",
   "language": "python",
   "name": "python3"
  },
  "language_info": {
   "codemirror_mode": {
    "name": "ipython",
    "version": 3
   },
   "file_extension": ".py",
   "mimetype": "text/x-python",
   "name": "python",
   "nbconvert_exporter": "python",
   "pygments_lexer": "ipython3",
   "version": "3.12.11"
  }
 },
 "nbformat": 4,
 "nbformat_minor": 5
}
