{
 "cells": [
  {
   "cell_type": "markdown",
   "id": "f826c925",
   "metadata": {},
   "source": [
    "# Complessità computazionale\n",
    "\n",
    "Una misura di quante risorse (come tempo o memoria) un algoritmo richiede per risolvere un problema, in funzione della dimensione dell’input.\n",
    "\n",
    "- Complessità temporale: legata al numero di operazioni **elementari** eseguite dall'algoritmo\n",
    "- Complessità spaziale: quantità di memoria utilizzata"
   ]
  },
  {
   "cell_type": "code",
   "execution_count": 1,
   "id": "b2375198",
   "metadata": {},
   "outputs": [
    {
     "name": "stdout",
     "output_type": "stream",
     "text": [
      "False\n",
      "False\n"
     ]
    }
   ],
   "source": [
    "a = \"itopinonavevanonipoti\"*10000\n",
    "n = len(a)\n",
    "print(\"x\" == a[0])  # operazione elementare: tra scalari di tipo int, float, bool\n",
    "print(\"x\" in a)     # nasconde fino a n operazioni elementari"
   ]
  },
  {
   "cell_type": "markdown",
   "id": "6454bba8",
   "metadata": {},
   "source": [
    "Esempio"
   ]
  },
  {
   "cell_type": "code",
   "execution_count": 1,
   "id": "ce9c6027",
   "metadata": {},
   "outputs": [
    {
     "name": "stdout",
     "output_type": "stream",
     "text": [
      "True\n"
     ]
    }
   ],
   "source": [
    "# INPUT\n",
    "a = \"itopinonavevanonipoti\"\n",
    "n = len(a)\n",
    "\n",
    "# Preambolo\n",
    "i = 0\n",
    "sembra_palindroma = True\n",
    "\n",
    "# Parte centrale\n",
    "while i < n/2 and sembra_palindroma:\n",
    "    if a[i] != a[-i-1]: # coppia di caratteri simmetrici\n",
    "        sembra_palindroma = False\n",
    "    else:\n",
    "        i += 1\n",
    "\n",
    "# Conclusioni\n",
    "print(sembra_palindroma)"
   ]
  },
  {
   "cell_type": "markdown",
   "id": "1fdbd0de",
   "metadata": {},
   "source": [
    "Calcoliamo la complessità temporale del programma in funzione di `n`.\n",
    "\n",
    "Assumiamo `a` palindroma\n",
    "\n",
    "- sia `c0` il costo del preambolo\n",
    "- sia `c1` il costo delle conclusioni\n",
    "- sia `c` il costo costo del corpo del while (solo il blocco di)\n",
    "\n",
    "`c0`, `c1` e `c` non dipendono da `n`: sono **costanti**.\n",
    "\n",
    "Costo totale:\n",
    "\n",
    "$T(n) = c0 + c1 + c2\\cdot n/2$ è una funzione lineare in $n$, diciamo che il tempo di calcolo cresce linearmente in $n$. Oppure, la complesità temporale del programma è lineare in $n$.\n",
    "\n",
    "Per descrivere questo comportamento con $n$ che cresce *asintoticamente*, si usa la notazione O-grande che semplifica una funzione tenendo solo il termine che cresce più velocemente al crescere di $n$, ignorando costanti e termini più piccoli..\n",
    "\n",
    "Quindi si dice che $T(n)$ è $O(n)$ (O-grande di $n$) per dire che la crescita di $T(n)$ è al più lineare in $n$.\n",
    "\n",
    "Se `a` non palindroma\n",
    "\n",
    "$T(n) \\leq c0 + c1 + c2\\cdot n/2$\n",
    "\n",
    "$T(n)$ è $O(n)$ nel caso peggiore.\n",
    "\n",
    "Nell'analisi della complessità si considera solitamente il caso peggiore, talvolta il caso medio.\n",
    "\n",
    "**Complessità del caso medio**: è la media dei costi di tutti i possibili casi, nel nostro caso\n",
    "\n",
    "$$T_m(n) = \\frac{1+2+\\ldots+n/2}{n/2}$$\n",
    "\n",
    "Poiché $1+2+...+(k-1)+k = (k+1)k/2$ allora\n",
    "\n",
    "$$T_m(n) = \\frac{\\left(\\frac{n}{2}+1\\right)\\frac{n}{4}}{n/2} = \\Big(\\frac{n}{2}+1\\Big)\\frac{1}{2}$$\n",
    "\n",
    "che è $O(n)$\n",
    "\n",
    "Altro esempio: se $T(n) = c0 + c1\\cdot n + c2\\cdot n^2$ allora la crescita di $T(n)$ sarebbe $O(n^2)$"
   ]
  },
  {
   "cell_type": "markdown",
   "id": "bc369ae5",
   "metadata": {},
   "source": [
    "# Tupla"
   ]
  },
  {
   "cell_type": "code",
   "execution_count": null,
   "id": "4f4dc82b",
   "metadata": {},
   "outputs": [
    {
     "name": "stdout",
     "output_type": "stream",
     "text": [
      "10 0\n",
      "<class 'tuple'>\n",
      "(10, 0)\n",
      "10 0\n"
     ]
    }
   ],
   "source": [
    "n, i = 10, 0\n",
    "\n",
    "print(n, i)\n",
    "\n",
    "# una tupla\n",
    "t = 10, 0  #  # impacchettamento, unpacking\n",
    "\n",
    "print(type(t))\n",
    "\n",
    "print(t)\n",
    "\n",
    "# per le tuple sono definite tutte le operazioni sulle stringhe, come le stringhe sono immutabili\n",
    "\n",
    "n, i = t # spacchettamento, packing\n",
    "\n",
    "print(n, i)\n",
    "\n",
    "t = (0, 3.14, ('python', 0, 'stringa'), 9)\n",
    "\n",
    "print(t[0]) # indicizzazione"
   ]
  },
  {
   "cell_type": "markdown",
   "id": "152f76d1",
   "metadata": {},
   "source": [
    "# Lista\n",
    "\n",
    "Struttura dati dinamica. Oltre a tutte le operazioni disponibili per le tuple, si possono modificare, aggiungere o cancellare elementi."
   ]
  },
  {
   "cell_type": "code",
   "execution_count": 14,
   "id": "2a4e3307",
   "metadata": {},
   "outputs": [
    {
     "name": "stdout",
     "output_type": "stream",
     "text": [
      "('python', 0, 'stringa')\n",
      "[0, 3.14, 'nuovo valore', 9, [1, 2, 3]]\n",
      "[0, 3.14, 9, [1, 2, 3]]\n",
      "[0, 3.14, 9, [1, 2, 3], 'ultimo elemento']\n"
     ]
    }
   ],
   "source": [
    "a = [] # lista vuota\n",
    "b = [0, 3.14, ('python', 0, 'stringa'), 9, [1,2,3] ]\n",
    "\n",
    "print(b[2])\n",
    "\n",
    "b[2] = 'nuovo valore'\n",
    "\n",
    "print(b)\n",
    "\n",
    "del(b[2])\n",
    "\n",
    "print(b)\n",
    "\n",
    "b.append('ultimo elemento')\n",
    "\n",
    "print(b)"
   ]
  },
  {
   "cell_type": "markdown",
   "id": "b3cc6afd",
   "metadata": {},
   "source": [
    "# Esercizi per il fine settimana\n",
    "\n",
    "1. Sia `n` una variabile intera, scrivere un programma che crei una lista contenente i primi `n` interi.\n",
    "\n",
    "2. Sia `a` una lista contenente soltanto numeri, si costruisca la lista delle somme parziali di `a`, ovvero una lista, denominata `somme` della stessa dimensione di `a` tale che `somme[i]` contiene la somma dei primi `i+1` elementi in `a`.\n",
    "\n",
    "Nel risolvere gli esercizi si utilizzino soltanto gli strumenti fin qui introdotti a lezione."
   ]
  }
 ],
 "metadata": {
  "kernelspec": {
   "display_name": "base",
   "language": "python",
   "name": "python3"
  },
  "language_info": {
   "codemirror_mode": {
    "name": "ipython",
    "version": 3
   },
   "file_extension": ".py",
   "mimetype": "text/x-python",
   "name": "python",
   "nbconvert_exporter": "python",
   "pygments_lexer": "ipython3",
   "version": "3.12.11"
  }
 },
 "nbformat": 4,
 "nbformat_minor": 5
}
